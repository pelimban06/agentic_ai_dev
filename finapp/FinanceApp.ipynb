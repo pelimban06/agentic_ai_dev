{
 "cells": [
  {
   "cell_type": "code",
   "execution_count": 5,
   "id": "789496ad-ee42-450a-9956-8361ca3e48ac",
   "metadata": {},
   "outputs": [
    {
     "name": "stdout",
     "output_type": "stream",
     "text": [
      "Defaulting to user installation because normal site-packages is not writeable\n",
      "Requirement already satisfied: langchain in /home/developer/.local/lib/python3.10/site-packages (0.3.26)\n",
      "Requirement already satisfied: langchain-openai in /home/developer/.local/lib/python3.10/site-packages (0.3.28)\n",
      "Requirement already satisfied: langchain-core<1.0.0,>=0.3.66 in /home/developer/.local/lib/python3.10/site-packages (from langchain) (0.3.68)\n",
      "Requirement already satisfied: langchain-text-splitters<1.0.0,>=0.3.8 in /home/developer/.local/lib/python3.10/site-packages (from langchain) (0.3.8)\n",
      "Requirement already satisfied: langsmith>=0.1.17 in /home/developer/.local/lib/python3.10/site-packages (from langchain) (0.4.4)\n",
      "Requirement already satisfied: pydantic<3.0.0,>=2.7.4 in /home/developer/.local/lib/python3.10/site-packages (from langchain) (2.11.7)\n",
      "Requirement already satisfied: SQLAlchemy<3,>=1.4 in /home/developer/.local/lib/python3.10/site-packages (from langchain) (2.0.41)\n",
      "Requirement already satisfied: requests<3,>=2 in /home/developer/.local/lib/python3.10/site-packages (from langchain) (2.32.4)\n",
      "Requirement already satisfied: PyYAML>=5.3 in /usr/lib/python3/dist-packages (from langchain) (5.4.1)\n",
      "Requirement already satisfied: async-timeout<5.0.0,>=4.0.0 in /home/developer/.local/lib/python3.10/site-packages (from langchain) (4.0.3)\n",
      "Requirement already satisfied: tenacity!=8.4.0,<10.0.0,>=8.1.0 in /home/developer/.local/lib/python3.10/site-packages (from langchain-core<1.0.0,>=0.3.66->langchain) (9.1.2)\n",
      "Requirement already satisfied: jsonpatch<2.0,>=1.33 in /home/developer/.local/lib/python3.10/site-packages (from langchain-core<1.0.0,>=0.3.66->langchain) (1.33)\n",
      "Requirement already satisfied: packaging<25,>=23.2 in /home/developer/.local/lib/python3.10/site-packages (from langchain-core<1.0.0,>=0.3.66->langchain) (24.2)\n",
      "Requirement already satisfied: typing-extensions>=4.7 in /home/developer/.local/lib/python3.10/site-packages (from langchain-core<1.0.0,>=0.3.66->langchain) (4.14.0)\n",
      "Requirement already satisfied: jsonpointer>=1.9 in /home/developer/.local/lib/python3.10/site-packages (from jsonpatch<2.0,>=1.33->langchain-core<1.0.0,>=0.3.66->langchain) (3.0.0)\n",
      "Requirement already satisfied: annotated-types>=0.6.0 in /home/developer/.local/lib/python3.10/site-packages (from pydantic<3.0.0,>=2.7.4->langchain) (0.7.0)\n",
      "Requirement already satisfied: pydantic-core==2.33.2 in /home/developer/.local/lib/python3.10/site-packages (from pydantic<3.0.0,>=2.7.4->langchain) (2.33.2)\n",
      "Requirement already satisfied: typing-inspection>=0.4.0 in /home/developer/.local/lib/python3.10/site-packages (from pydantic<3.0.0,>=2.7.4->langchain) (0.4.1)\n",
      "Requirement already satisfied: charset_normalizer<4,>=2 in /home/developer/.local/lib/python3.10/site-packages (from requests<3,>=2->langchain) (3.4.2)\n",
      "Requirement already satisfied: idna<4,>=2.5 in /usr/lib/python3/dist-packages (from requests<3,>=2->langchain) (3.3)\n",
      "Requirement already satisfied: urllib3<3,>=1.21.1 in /home/developer/.local/lib/python3.10/site-packages (from requests<3,>=2->langchain) (2.5.0)\n",
      "Requirement already satisfied: certifi>=2017.4.17 in /home/developer/.local/lib/python3.10/site-packages (from requests<3,>=2->langchain) (2025.8.3)\n",
      "Requirement already satisfied: greenlet>=1 in /home/developer/.local/lib/python3.10/site-packages (from SQLAlchemy<3,>=1.4->langchain) (3.2.3)\n",
      "Requirement already satisfied: openai<2.0.0,>=1.86.0 in /home/developer/.local/lib/python3.10/site-packages (from langchain-openai) (1.98.0)\n",
      "Requirement already satisfied: tiktoken<1,>=0.7 in /home/developer/.local/lib/python3.10/site-packages (from langchain-openai) (0.9.0)\n",
      "Requirement already satisfied: anyio<5,>=3.5.0 in /home/developer/.local/lib/python3.10/site-packages (from openai<2.0.0,>=1.86.0->langchain-openai) (4.9.0)\n",
      "Requirement already satisfied: distro<2,>=1.7.0 in /usr/lib/python3/dist-packages (from openai<2.0.0,>=1.86.0->langchain-openai) (1.7.0)\n",
      "Requirement already satisfied: httpx<1,>=0.23.0 in /home/developer/.local/lib/python3.10/site-packages (from openai<2.0.0,>=1.86.0->langchain-openai) (0.28.1)\n",
      "Requirement already satisfied: jiter<1,>=0.4.0 in /home/developer/.local/lib/python3.10/site-packages (from openai<2.0.0,>=1.86.0->langchain-openai) (0.10.0)\n",
      "Requirement already satisfied: sniffio in /home/developer/.local/lib/python3.10/site-packages (from openai<2.0.0,>=1.86.0->langchain-openai) (1.3.1)\n",
      "Requirement already satisfied: tqdm>4 in /home/developer/.local/lib/python3.10/site-packages (from openai<2.0.0,>=1.86.0->langchain-openai) (4.67.1)\n",
      "Requirement already satisfied: exceptiongroup>=1.0.2 in /home/developer/.local/lib/python3.10/site-packages (from anyio<5,>=3.5.0->openai<2.0.0,>=1.86.0->langchain-openai) (1.3.0)\n",
      "Requirement already satisfied: httpcore==1.* in /home/developer/.local/lib/python3.10/site-packages (from httpx<1,>=0.23.0->openai<2.0.0,>=1.86.0->langchain-openai) (1.0.9)\n",
      "Requirement already satisfied: h11>=0.16 in /home/developer/.local/lib/python3.10/site-packages (from httpcore==1.*->httpx<1,>=0.23.0->openai<2.0.0,>=1.86.0->langchain-openai) (0.16.0)\n",
      "Requirement already satisfied: regex>=2022.1.18 in /home/developer/.local/lib/python3.10/site-packages (from tiktoken<1,>=0.7->langchain-openai) (2024.11.6)\n",
      "Requirement already satisfied: orjson<4.0.0,>=3.9.14 in /home/developer/.local/lib/python3.10/site-packages (from langsmith>=0.1.17->langchain) (3.10.18)\n",
      "Requirement already satisfied: requests-toolbelt<2.0.0,>=1.0.0 in /home/developer/.local/lib/python3.10/site-packages (from langsmith>=0.1.17->langchain) (1.0.0)\n",
      "Requirement already satisfied: zstandard<0.24.0,>=0.23.0 in /home/developer/.local/lib/python3.10/site-packages (from langsmith>=0.1.17->langchain) (0.23.0)\n",
      "Defaulting to user installation because normal site-packages is not writeable\n",
      "Requirement already satisfied: langgraph in /home/developer/.local/lib/python3.10/site-packages (0.6.4)\n",
      "Requirement already satisfied: langchain-core>=0.1 in /home/developer/.local/lib/python3.10/site-packages (from langgraph) (0.3.68)\n",
      "Requirement already satisfied: langgraph-checkpoint<3.0.0,>=2.1.0 in /home/developer/.local/lib/python3.10/site-packages (from langgraph) (2.1.1)\n",
      "Requirement already satisfied: langgraph-prebuilt<0.7.0,>=0.6.0 in /home/developer/.local/lib/python3.10/site-packages (from langgraph) (0.6.4)\n",
      "Requirement already satisfied: langgraph-sdk<0.3.0,>=0.2.0 in /home/developer/.local/lib/python3.10/site-packages (from langgraph) (0.2.0)\n",
      "Requirement already satisfied: pydantic>=2.7.4 in /home/developer/.local/lib/python3.10/site-packages (from langgraph) (2.11.7)\n",
      "Requirement already satisfied: xxhash>=3.5.0 in /home/developer/.local/lib/python3.10/site-packages (from langgraph) (3.5.0)\n",
      "Requirement already satisfied: ormsgpack>=1.10.0 in /home/developer/.local/lib/python3.10/site-packages (from langgraph-checkpoint<3.0.0,>=2.1.0->langgraph) (1.10.0)\n",
      "Requirement already satisfied: httpx>=0.25.2 in /home/developer/.local/lib/python3.10/site-packages (from langgraph-sdk<0.3.0,>=0.2.0->langgraph) (0.28.1)\n",
      "Requirement already satisfied: orjson>=3.10.1 in /home/developer/.local/lib/python3.10/site-packages (from langgraph-sdk<0.3.0,>=0.2.0->langgraph) (3.10.18)\n",
      "Requirement already satisfied: anyio in /home/developer/.local/lib/python3.10/site-packages (from httpx>=0.25.2->langgraph-sdk<0.3.0,>=0.2.0->langgraph) (4.9.0)\n",
      "Requirement already satisfied: certifi in /home/developer/.local/lib/python3.10/site-packages (from httpx>=0.25.2->langgraph-sdk<0.3.0,>=0.2.0->langgraph) (2025.8.3)\n",
      "Requirement already satisfied: httpcore==1.* in /home/developer/.local/lib/python3.10/site-packages (from httpx>=0.25.2->langgraph-sdk<0.3.0,>=0.2.0->langgraph) (1.0.9)\n",
      "Requirement already satisfied: idna in /usr/lib/python3/dist-packages (from httpx>=0.25.2->langgraph-sdk<0.3.0,>=0.2.0->langgraph) (3.3)\n",
      "Requirement already satisfied: h11>=0.16 in /home/developer/.local/lib/python3.10/site-packages (from httpcore==1.*->httpx>=0.25.2->langgraph-sdk<0.3.0,>=0.2.0->langgraph) (0.16.0)\n",
      "Requirement already satisfied: langsmith>=0.3.45 in /home/developer/.local/lib/python3.10/site-packages (from langchain-core>=0.1->langgraph) (0.4.4)\n",
      "Requirement already satisfied: tenacity!=8.4.0,<10.0.0,>=8.1.0 in /home/developer/.local/lib/python3.10/site-packages (from langchain-core>=0.1->langgraph) (9.1.2)\n",
      "Requirement already satisfied: jsonpatch<2.0,>=1.33 in /home/developer/.local/lib/python3.10/site-packages (from langchain-core>=0.1->langgraph) (1.33)\n",
      "Requirement already satisfied: PyYAML>=5.3 in /usr/lib/python3/dist-packages (from langchain-core>=0.1->langgraph) (5.4.1)\n",
      "Requirement already satisfied: packaging<25,>=23.2 in /home/developer/.local/lib/python3.10/site-packages (from langchain-core>=0.1->langgraph) (24.2)\n",
      "Requirement already satisfied: typing-extensions>=4.7 in /home/developer/.local/lib/python3.10/site-packages (from langchain-core>=0.1->langgraph) (4.14.0)\n",
      "Requirement already satisfied: jsonpointer>=1.9 in /home/developer/.local/lib/python3.10/site-packages (from jsonpatch<2.0,>=1.33->langchain-core>=0.1->langgraph) (3.0.0)\n",
      "Requirement already satisfied: requests<3,>=2 in /home/developer/.local/lib/python3.10/site-packages (from langsmith>=0.3.45->langchain-core>=0.1->langgraph) (2.32.4)\n",
      "Requirement already satisfied: requests-toolbelt<2.0.0,>=1.0.0 in /home/developer/.local/lib/python3.10/site-packages (from langsmith>=0.3.45->langchain-core>=0.1->langgraph) (1.0.0)\n",
      "Requirement already satisfied: zstandard<0.24.0,>=0.23.0 in /home/developer/.local/lib/python3.10/site-packages (from langsmith>=0.3.45->langchain-core>=0.1->langgraph) (0.23.0)\n",
      "Requirement already satisfied: annotated-types>=0.6.0 in /home/developer/.local/lib/python3.10/site-packages (from pydantic>=2.7.4->langgraph) (0.7.0)\n",
      "Requirement already satisfied: pydantic-core==2.33.2 in /home/developer/.local/lib/python3.10/site-packages (from pydantic>=2.7.4->langgraph) (2.33.2)\n",
      "Requirement already satisfied: typing-inspection>=0.4.0 in /home/developer/.local/lib/python3.10/site-packages (from pydantic>=2.7.4->langgraph) (0.4.1)\n",
      "Requirement already satisfied: charset_normalizer<4,>=2 in /home/developer/.local/lib/python3.10/site-packages (from requests<3,>=2->langsmith>=0.3.45->langchain-core>=0.1->langgraph) (3.4.2)\n",
      "Requirement already satisfied: urllib3<3,>=1.21.1 in /home/developer/.local/lib/python3.10/site-packages (from requests<3,>=2->langsmith>=0.3.45->langchain-core>=0.1->langgraph) (2.5.0)\n",
      "Requirement already satisfied: exceptiongroup>=1.0.2 in /home/developer/.local/lib/python3.10/site-packages (from anyio->httpx>=0.25.2->langgraph-sdk<0.3.0,>=0.2.0->langgraph) (1.3.0)\n",
      "Requirement already satisfied: sniffio>=1.1 in /home/developer/.local/lib/python3.10/site-packages (from anyio->httpx>=0.25.2->langgraph-sdk<0.3.0,>=0.2.0->langgraph) (1.3.1)\n"
     ]
    }
   ],
   "source": [
    "!pip install langchain langchain-openai\n",
    "!pip install langgraph"
   ]
  },
  {
   "cell_type": "code",
   "execution_count": 7,
   "id": "68281087-e476-4c02-ba7b-8baa59afda26",
   "metadata": {},
   "outputs": [],
   "source": [
    "\n",
    "from langgraph.graph import StateGraph, END\n",
    "from typing import TypedDict, List\n",
    "from langchain_core.messages import HumanMessage, AIMessage\n",
    "from langchain_openai import ChatOpenAI"
   ]
  },
  {
   "cell_type": "code",
   "execution_count": 8,
   "id": "c065aea4-93a0-4fcb-ab6e-9d585e839d59",
   "metadata": {},
   "outputs": [
    {
     "name": "stdin",
     "output_type": "stream",
     "text": [
      "Enter your OpenAI API key:  ········\n"
     ]
    }
   ],
   "source": [
    "import os\n",
    "import getpass\n",
    "\n",
    "if \"OPENAI_API_KEY\" not in os.environ:\n",
    "    os.environ[\"OPENAI_API_KEY\"] = getpass.getpass(\"Enter your OpenAI API key: \")"
   ]
  },
  {
   "cell_type": "code",
   "execution_count": 9,
   "id": "eb62c604-b871-494e-a4a9-ac63be181304",
   "metadata": {},
   "outputs": [],
   "source": [
    "from langchain_core.prompts import PromptTemplate"
   ]
  },
  {
   "cell_type": "code",
   "execution_count": 12,
   "id": "7bbadf89-28ff-4c1f-af98-d1090250c270",
   "metadata": {},
   "outputs": [],
   "source": [
    "from langchain_openai import ChatOpenAI\n",
    "# Initialize the ChatOpenAI model\n",
    "llm = ChatOpenAI(\n",
    "    model_name=\"gpt-4o\",  # Specify the model (e.g., gpt-4, gpt-3.5-turbo)\n",
    "    temperature=0.7,      # Controls randomness (0 to 1)\n",
    "    max_tokens=512        # Maximum tokens in the response\n",
    ")"
   ]
  },
  {
   "cell_type": "code",
   "execution_count": 15,
   "id": "9d8ba511-aff8-4a03-9138-57d22097c8e1",
   "metadata": {},
   "outputs": [],
   "source": [
    "# State\n",
    "class State(TypedDict):\n",
    "\tinput: str\n",
    "\tdecision: str\n",
    "\toutput: str"
   ]
  },
  {
   "cell_type": "code",
   "execution_count": 76,
   "id": "e8198435-924c-4e55-98af-849383ccf3ef",
   "metadata": {},
   "outputs": [],
   "source": [
    "from typing_extensions import Literal\n",
    "from pydantic import BaseModel, Field\n",
    "from langgraph.graph import StateGraph, START, END\n",
    "from IPython.display import Image, display\n",
    "\n",
    "\n",
    "# Schema for strctured output to use as routing logic\n",
    "class Route(BaseModel):\n",
    "\tstep: Literal[\"finance\", \"portfolio \", \"market\", \"goal\", \"news\", \"tax\"] = Field(\n",
    "\t\tNone, description=\"The next step in the routing prcess\"\n",
    "\t)\n",
    "\n",
    "# Agument the LLM with schema for structured output\n",
    "\n",
    "router = llm.with_structured_output(Route)"
   ]
  },
  {
   "cell_type": "code",
   "execution_count": 77,
   "id": "59138378-03ec-46de-b404-cf914cf52c54",
   "metadata": {},
   "outputs": [],
   "source": [
    "from langchain_core.messages import SystemMessage, HumanMessage\n",
    "from langchain_core.messages import SystemMessage, HumanMessage\n",
    "# Nodes\n",
    "def call_finance_qa_agent(state: State):\n",
    "\t\"\"\" Finance Q&A Agent \"\"\"\n",
    "\n",
    "\tprint(\" Finance Q&A Agent: Handles general financial education queries \")\n",
    "\tresult = llm.invoke(state[\"input\"])\n",
    "\treturn {\"output\": result.content}\n",
    "\n",
    "def call_portfolio_analysis_agent(state: State):\n",
    "\t\"\"\" Portfolio Analysis Agent \"\"\"\n",
    "\n",
    "\tprint(\" Reviews and analyzes user portfolios \")\n",
    "\tresult = llm.invoke(state[\"input\"])\n",
    "\treturn {\"output\": result.content}\n",
    "\n",
    "def call_market_analysis_agent(state: State):\n",
    "\t\"\"\" Market Analysis Agent\"\"\"\n",
    "\n",
    "\tprint(\" Provides real-time market insights \")\n",
    "\tresult = llm.invoke(state[\"input\"])\n",
    "\treturn {\"output\": result.content}\n",
    "\n",
    "def call_goal_planning_agent(state: State):\n",
    "\t\"\"\" Goal Planning Agent\"\"\"\n",
    "\n",
    "\tprint(\" Assists with financial goal setting and planning \")\n",
    "\tresult = llm.invoke(state[\"input\"])\n",
    "\treturn {\"output\": result.content}\n",
    "\n",
    "def call_news_synthesizer_agent(state: State):\n",
    "\t\"\"\" News Synthesizer Agent\"\"\"\n",
    "\n",
    "\tprint(\" Summarizes and contextualizes financial news \")\n",
    "\tresult = llm.invoke(state[\"input\"])\n",
    "\treturn {\"output\": result.content}\n",
    "\n",
    "def call_tax_education_agent(state: State):\n",
    "\t\"\"\" Tax Education Agent\"\"\"\n",
    "\n",
    "\tprint(\" Explains tax concepts and account types \")\n",
    "\tresult = llm.invoke(state[\"input\"])\n",
    "\treturn {\"output\": result.content}\n",
    "\n",
    "\n",
    "def finapp_router(state: State):\n",
    "  \"\"\"Route the input to the appropriate node \"\"\"\n",
    "\n",
    "  # Run the agumented LLM with strctured output to serve as routing logic\n",
    "  decision = router.invoke(\n",
    "\t\t[\n",
    "\t\t\tSystemMessage(\n",
    "\t\t\t\tcontent=\"Route the input to finance, portfolio, market, goal, news or tax based on user request\"\n",
    "\t\t\t),\n",
    "\t\t\tHumanMessage(content=state[\"input\"]),\n",
    "\n",
    "\t\t]\n",
    "\t)\n",
    "  print(f\"decision: {decision.step}\")  \n",
    "  return {\"decision\": decision.step}\n",
    "\n",
    "\n",
    "# Conditional edge function to route the appropriate node\n",
    "def route_decision(state: State):\n",
    "\tdecision_str = state[\"decision\"].rstrip()\n",
    "\tdecision_str = decision_str.lower()\n",
    "\tprint(decision_str)\n",
    "\tif decision_str is None:\n",
    "\t\treturn \"call_finance_qa_agent\"\n",
    "\t\n",
    "\n",
    "\tif decision_str == 'finance':\n",
    "\t\treturn \"call_finance_qa_agent\"\n",
    "\telif decision_str == 'portfolio':\n",
    "\t\treturn \"call_portfolio_analysis_agent\"\n",
    "\telif decision_str == \"market\":\n",
    "\t\treturn \"call_market_analysis_agent\"\n",
    "\telif decision_str == \"goal\":\n",
    "\t\treturn \"call_goal_planning_agent\"\n",
    "\telif decision_str == \"news\":\n",
    "\t\treturn \"call_news_synthesizer_agent\"\n",
    "\telif decision_str == \"tax\":\n",
    "\t\treturn \"call_tax_education_agent\"\n"
   ]
  },
  {
   "cell_type": "code",
   "execution_count": 78,
   "id": "fd41c3f9-de17-482e-9fb0-6f2a1b2ed37f",
   "metadata": {},
   "outputs": [
    {
     "data": {
      "image/png": "[encoded data removed]",
      "text/plain": [
       "<IPython.core.display.Image object>"
      ]
     },
     "metadata": {},
     "output_type": "display_data"
    }
   ],
   "source": [
    "# Build workflow\n",
    "router_builder = StateGraph(State)\n",
    "\n",
    "# Add nodes\n",
    "router_builder.add_node(\"call_finance_qa_agent\", call_finance_qa_agent)\n",
    "router_builder.add_node(\"call_portfolio_analysis_agent\", call_portfolio_analysis_agent)\n",
    "router_builder.add_node(\"call_market_analysis_agent\", call_market_analysis_agent)\n",
    "router_builder.add_node(\"call_goal_planning_agent\", call_goal_planning_agent)\n",
    "router_builder.add_node(\"call_news_synthesizer_agent\", call_news_synthesizer_agent)\n",
    "router_builder.add_node(\"call_tax_education_agent\", call_tax_education_agent)\n",
    "\n",
    "router_builder.add_node(\"finapp_router\", finapp_router)\n",
    "\n",
    "# Add edges to connect nodes\n",
    "router_builder.add_edge(START, \"finapp_router\")\n",
    "router_builder.add_conditional_edges(\n",
    "    \"finapp_router\",\n",
    "    route_decision,\n",
    "    {  # Name returned by route_decision : Name of next node to visit\n",
    "        \"call_finance_qa_agent\": \"call_finance_qa_agent\",\n",
    "        \"call_portfolio_analysis_agent\": \"call_portfolio_analysis_agent\",\n",
    "        \"call_market_analysis_agent\": \"call_market_analysis_agent\",\n",
    "        \"call_goal_planning_agent\": \"call_goal_planning_agent\",\n",
    "        \"call_news_synthesizer_agent\": \"call_news_synthesizer_agent\",\n",
    "        \"call_tax_education_agent\": \"call_tax_education_agent\",\n",
    "    },\n",
    ")\n",
    "\n",
    "router_builder.add_edge(\"call_finance_qa_agent\", END)\n",
    "router_builder.add_edge(\"call_portfolio_analysis_agent\", END)\n",
    "router_builder.add_edge(\"call_market_analysis_agent\", END)\n",
    "router_builder.add_edge(\"call_goal_planning_agent\", END)\n",
    "router_builder.add_edge(\"call_news_synthesizer_agent\", END)\n",
    "router_builder.add_edge(\"call_tax_education_agent\", END)\n",
    "\n",
    "# compile workflow\n",
    "router_workflow = router_builder.compile()\n",
    "\n",
    "# Show the workflow\n",
    "display(Image(router_workflow.get_graph().draw_mermaid_png()))"
   ]
  },
  {
   "cell_type": "code",
   "execution_count": 79,
   "id": "4908a57c-b060-442b-bd14-91c920834c15",
   "metadata": {},
   "outputs": [
    {
     "name": "stdout",
     "output_type": "stream",
     "text": [
      "decision: portfolio \n",
      "portfolio\n",
      " Reviews and analyzes user portfolios \n",
      "A portfolio is a collection of financial investments like stocks, bonds, commodities, cash, and other assets held by an individual or institution. It can also refer to a range of investments held by an individual or organization. Here are a few different contexts in which the term \"portfolio\" is used:\n",
      "\n",
      "1. **Investment Portfolio**: This is the most common usage, referring to a collection of financial assets such as stocks, bonds, mutual funds, exchange-traded funds (ETFs), and other securities. An investment portfolio is designed to achieve specific financial goals and manage risk through diversification.\n",
      "\n",
      "2. **Project Portfolio**: In project management, a portfolio refers to a collection of projects or programs that are managed and coordinated to achieve strategic business objectives. This involves prioritizing and selecting projects to ensure they align with organizational goals.\n",
      "\n",
      "3. **Career Portfolio**: This is used by individuals to showcase their skills, experiences, and accomplishments, often for job applications or career development. It may include resumes, work samples, references, and certifications.\n",
      "\n",
      "4. **Product Portfolio**: In business and marketing, a product portfolio is the range of products or services offered by a company. Managing a product portfolio involves analyzing and optimizing the mix of products to maximize profitability and market share.\n",
      "\n",
      "5. **Artistic Portfolio**: For artists, designers, photographers, and other creatives, a portfolio is a collection of their works that demonstrates their skills and style. It is often used to present their work to potential clients or employers.\n",
      "\n",
      "In all these contexts, a portfolio is essentially a curated collection of items that represent the holder's assets, projects, skills, or products, intended to achieve certain objectives.\n"
     ]
    }
   ],
   "source": [
    "state = router_workflow.invoke({\"input\": \"what is portfolio?\"})\n",
    "print(state[\"output\"])"
   ]
  },
  {
   "cell_type": "code",
   "execution_count": 80,
   "id": "8b640ef0-e9a8-469a-bfe3-b6d39c9abfea",
   "metadata": {},
   "outputs": [
    {
     "name": "stdout",
     "output_type": "stream",
     "text": [
      "decision: finance\n",
      "finance\n",
      " Finance Q&A Agent: Handles general financial education queries \n",
      "Finance is a broad field concerned with the management, creation, and study of money, investments, and other financial instruments. It encompasses various activities, such as investing, borrowing, lending, budgeting, saving, and forecasting. The primary goal of finance is to manage an individual's or organization's financial resources to maximize wealth and achieve financial objectives.\n",
      "\n",
      "Finance is typically divided into three main subcategories:\n",
      "\n",
      "1. **Personal Finance:** This involves managing an individual's or family's financial activities, such as budgeting, saving, investing, insurance, mortgage planning, and retirement planning. The focus is on meeting personal financial goals, such as purchasing a home, funding education, or ensuring a comfortable retirement.\n",
      "\n",
      "2. **Corporate Finance:** This area of finance deals with the financial activities related to running a corporation. It involves managing a company's capital structure, funding operations, enhancing shareholder value, and handling mergers and acquisitions. Corporate finance professionals work to optimize the company's financial performance and strategic direction.\n",
      "\n",
      "3. **Public Finance:** This concerns the financial activities of governments and public entities. It includes budgeting, taxation, expenditure, and debt issuance related to government functions. Public finance aims to allocate resources efficiently, promote economic stability, and achieve social objectives.\n",
      "\n",
      "Additionally, finance encompasses related fields such as financial markets (where financial instruments are traded), investment banking, risk management, and financial regulation. Understanding finance is crucial for making informed decisions about investing, saving, and managing money effectively.\n"
     ]
    }
   ],
   "source": [
    "state = router_workflow.invoke({\"input\": \"what is finance?\"})\n",
    "print(state[\"output\"])"
   ]
  },
  {
   "cell_type": "code",
   "execution_count": 81,
   "id": "ff5c81be-4110-4ce4-a110-477ed3345cb1",
   "metadata": {},
   "outputs": [
    {
     "name": "stdout",
     "output_type": "stream",
     "text": [
      "decision: goal\n",
      "goal\n",
      " Assists with financial goal setting and planning \n",
      "Goal planning is the process of identifying specific objectives you want to achieve and outlining the steps necessary to reach those objectives. It involves setting clear, actionable, and measurable goals, typically within a certain timeframe, and then developing a plan to attain them. Here are some key components of effective goal planning:\n",
      "\n",
      "1. **Clarity**: Clearly define what you want to achieve. The more specific the goal, the easier it is to plan for and accomplish.\n",
      "\n",
      "2. **Measurability**: Establish criteria for measuring progress and success. This helps in tracking your progress and staying motivated.\n",
      "\n",
      "3. **Achievability**: Set realistic goals that are attainable given your current resources and constraints.\n",
      "\n",
      "4. **Relevance**: Ensure that your goals align with your broader objectives, values, and long-term aspirations.\n",
      "\n",
      "5. **Time-bound**: Set a deadline for achieving your goals to create a sense of urgency and help prioritize tasks.\n",
      "\n",
      "6. **Action Plan**: Break down the goal into smaller, manageable tasks or steps. This makes the process less overwhelming and helps maintain focus.\n",
      "\n",
      "7. **Monitoring and Evaluation**: Regularly assess your progress and make adjustments to your plan as needed. This helps in staying on track and addressing any obstacles that arise.\n",
      "\n",
      "8. **Flexibility**: Be prepared to adapt your goals and plans in response to changing circumstances or new information.\n",
      "\n",
      "Effective goal planning can lead to greater focus, motivation, and success in personal, professional, or organizational contexts. It helps in organizing efforts, allocating resources efficiently, and ultimately achieving desired outcomes.\n"
     ]
    }
   ],
   "source": [
    "state = router_workflow.invoke({\"input\": \"what is goal planning?\"})\n",
    "print(state[\"output\"])"
   ]
  },
  {
   "cell_type": "code",
   "execution_count": 82,
   "id": "03b934f3-c657-4e02-917e-aa8aa2668a87",
   "metadata": {},
   "outputs": [
    {
     "name": "stdout",
     "output_type": "stream",
     "text": [
      "decision: market\n",
      "market\n",
      " Provides real-time market insights \n",
      "Market analysis is the process of examining and evaluating the dynamics of a market within a specific industry. It involves understanding various factors that influence the market, such as size, growth rate, trends, competitive landscape, customer needs, and overall economic conditions. Conducting a market analysis helps businesses and investors make informed decisions by providing insights into the market environment.\n",
      "\n",
      "Key components of market analysis include:\n",
      "\n",
      "1. **Market Size and Growth**: Estimating the size of the market in terms of revenue or volume and understanding its growth trajectory over time.\n",
      "\n",
      "2. **Market Trends**: Identifying current and emerging trends that could affect the market, such as technological advancements, changes in consumer behavior, or regulatory shifts.\n",
      "\n",
      "3. **Target Market**: Defining and understanding the specific segment of the market that a business aims to serve, including demographic, geographic, and psychographic characteristics.\n",
      "\n",
      "4. **Competitive Analysis**: Evaluating the strengths and weaknesses of competitors within the market, understanding their strategies, and identifying opportunities for differentiation.\n",
      "\n",
      "5. **Customer Analysis**: Understanding customer needs, preferences, purchasing behavior, and factors that influence their buying decisions.\n",
      "\n",
      "6. **Barriers to Entry**: Identifying obstacles that new entrants might face when entering the market, such as high capital requirements, strict regulations, or strong brand loyalty among existing players.\n",
      "\n",
      "7. **Economic Environment**: Analyzing macroeconomic factors that could impact the market, such as inflation rates, unemployment levels, and overall economic growth.\n",
      "\n",
      "By performing a comprehensive market analysis, businesses can better position themselves to capitalize on opportunities, mitigate risks, and craft strategic plans that align with market realities.\n"
     ]
    }
   ],
   "source": [
    "state = router_workflow.invoke({\"input\": \"what is market analysis?\"})\n",
    "print(state[\"output\"])"
   ]
  },
  {
   "cell_type": "code",
   "execution_count": 83,
   "id": "aeb6720a-a65a-46e1-9049-248505bfc7a9",
   "metadata": {},
   "outputs": [
    {
     "name": "stdout",
     "output_type": "stream",
     "text": [
      "decision: news\n",
      "news\n",
      " Summarizes and contextualizes financial news \n",
      "Could you please specify which type of news you're interested in? For example, are you looking for updates on world events, politics, technology, entertainment, or sports?\n"
     ]
    }
   ],
   "source": [
    "state = router_workflow.invoke({\"input\": \"what is the news?\"})\n",
    "print(state[\"output\"])"
   ]
  },
  {
   "cell_type": "code",
   "execution_count": 84,
   "id": "feeda8ea-4105-4bde-aa4f-07e317853545",
   "metadata": {},
   "outputs": [
    {
     "name": "stdout",
     "output_type": "stream",
     "text": [
      "decision: tax\n",
      "tax\n",
      " Explains tax concepts and account types \n",
      "Yes, I can certainly help with general tax education. However, please keep in mind that I’m not a tax professional, and tax laws can vary significantly by country, state, and locality. For specific advice, it’s always best to consult with a qualified tax advisor or accountant. Here are some basic concepts and information that might be helpful:\n",
      "\n",
      "### Basic Tax Concepts:\n",
      "\n",
      "1. **Types of Taxes:**\n",
      "   - **Income Tax:** Tax on individual or business income.\n",
      "   - **Sales Tax:** Tax on sold goods and services.\n",
      "   - **Property Tax:** Tax based on property value, often levied on real estate.\n",
      "   - **Estate Tax:** Tax on the transfer of an estate after death.\n",
      "   - **Excise Tax:** Indirect tax on specific goods, like alcohol or gasoline.\n",
      "\n",
      "2. **Tax Entities:**\n",
      "   - **Individual:** Personal tax returns filed usually annually.\n",
      "   - **Corporations:** Companies file taxes separately from their owners.\n",
      "   - **Non-Profits:** Organizations often have specific tax exemptions.\n",
      "\n",
      "3. **Taxable Income:**\n",
      "   - Generally includes wages, salaries, bonuses, and investment income.\n",
      "   - Some income, like gifts or inheritances, might be tax-exempt.\n",
      "\n",
      "4. **Deductions and Credits:**\n",
      "   - **Deductions:** Reduce taxable income (e.g., mortgage interest, student loan interest).\n",
      "   - **Credits:** Reduce the total tax owed (e.g., education credits, child tax credit).\n",
      "\n",
      "5. **Filing Status:**\n",
      "   - Options include single, married filing jointly, married filing separately, head of household, and qualifying widow(er).\n",
      "   - Filing status can affect tax rates and standard deduction amounts.\n",
      "\n",
      "6. **Tax Brackets:**\n",
      "   - Progressive tax systems have different rates that increase with income.\n",
      "   - Understanding which bracket you fall into helps in estimating taxes owed.\n",
      "\n",
      "7. **Tax Deadlines:**\n",
      "   - In the U.S., federal tax returns are typically due on April 15th.\n",
      "   - Extensions may be available, but any owed taxes are still due by the original deadline.\n",
      "\n",
      "8. **Record Keeping:**\n",
      "   - Maintaining accurate records of income, expenses, and receipts is crucial for filing accurate tax returns and for potential audits.\n",
      "\n",
      "### Tips for Tax Filing:\n",
      "\n",
      "- **Start Early:** Give yourself plenty of time to gather documents and understand your tax situation.\n",
      "- **Use Tax Software:** Programs can simplify the process and reduce errors.\n",
      "- **Understand Changes:** Tax laws can change annually, so stay informed about\n"
     ]
    }
   ],
   "source": [
    "state = router_workflow.invoke({\"input\": \"Can you provide tax education?\"})\n",
    "print(state[\"output\"])"
   ]
  },
  {
   "cell_type": "code",
   "execution_count": null,
   "id": "49da8396-f1fe-4fe3-8cad-d7ba9fdf98b1",
   "metadata": {},
   "outputs": [],
   "source": []
  }
 ],
 "metadata": {
  "kernelspec": {
   "display_name": "Python 3 (ipykernel)",
   "language": "python",
   "name": "python3"
  },
  "language_info": {
   "codemirror_mode": {
    "name": "ipython",
    "version": 3
   },
   "file_extension": ".py",
   "mimetype": "text/x-python",
   "name": "python",
   "nbconvert_exporter": "python",
   "pygments_lexer": "ipython3",
   "version": "3.10.12"
  }
 },
 "nbformat": 4,
 "nbformat_minor": 5
}
