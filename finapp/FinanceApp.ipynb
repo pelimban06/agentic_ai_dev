{
 "cells": [
  {
   "cell_type": "code",
   "execution_count": 1,
   "id": "789496ad-ee42-450a-9956-8361ca3e48ac",
   "metadata": {},
   "outputs": [],
   "source": [
    "#!pip install langchain langchain-openai\n",
    "#!pip install langgraph"
   ]
  },
  {
   "cell_type": "code",
   "execution_count": 2,
   "id": "68281087-e476-4c02-ba7b-8baa59afda26",
   "metadata": {},
   "outputs": [],
   "source": [
    "\n",
    "from langgraph.graph import StateGraph, END\n",
    "from typing import TypedDict, List\n",
    "from langchain_core.messages import HumanMessage, AIMessage\n",
    "from langchain_openai import ChatOpenAI\n",
    "from typing import TypedDict, List, Dict\n"
   ]
  },
  {
   "cell_type": "code",
   "execution_count": 3,
   "id": "c065aea4-93a0-4fcb-ab6e-9d585e839d59",
   "metadata": {},
   "outputs": [
    {
     "name": "stdin",
     "output_type": "stream",
     "text": [
      "Enter your OpenAI API key:  ········\n"
     ]
    }
   ],
   "source": [
    "import os\n",
    "import getpass\n",
    "\n",
    "if \"OPENAI_API_KEY\" not in os.environ:\n",
    "    os.environ[\"OPENAI_API_KEY\"] = getpass.getpass(\"Enter your OpenAI API key: \")"
   ]
  },
  {
   "cell_type": "code",
   "execution_count": 4,
   "id": "eb62c604-b871-494e-a4a9-ac63be181304",
   "metadata": {},
   "outputs": [],
   "source": [
    "from langchain_core.prompts import PromptTemplate"
   ]
  },
  {
   "cell_type": "code",
   "execution_count": 5,
   "id": "7bbadf89-28ff-4c1f-af98-d1090250c270",
   "metadata": {},
   "outputs": [],
   "source": [
    "from langchain_openai import ChatOpenAI\n",
    "# Initialize the ChatOpenAI model\n",
    "llm = ChatOpenAI(\n",
    "    model_name=\"gpt-4o\",  # Specify the model (e.g., gpt-4, gpt-3.5-turbo)\n",
    "    temperature=0.7,      # Controls randomness (0 to 1)\n",
    "    max_tokens=512        # Maximum tokens in the response\n",
    ")"
   ]
  },
  {
   "cell_type": "code",
   "execution_count": 6,
   "id": "9d8ba511-aff8-4a03-9138-57d22097c8e1",
   "metadata": {},
   "outputs": [],
   "source": [
    "# AgentState\n",
    "class AgentState(TypedDict):\n",
    "    hist_messages: List[Dict[str, str]]  # Conversation history\n",
    "    system_prompt: str              # System prompt\n",
    "    user_input: str\n",
    "    query_type: str\n",
    "    decision: str\n",
    "    output: str"
   ]
  },
  {
   "cell_type": "code",
   "execution_count": 7,
   "id": "e8198435-924c-4e55-98af-849383ccf3ef",
   "metadata": {},
   "outputs": [],
   "source": [
    "from typing_extensions import Literal\n",
    "from pydantic import BaseModel, Field\n",
    "from langgraph.graph import StateGraph, START, END\n",
    "from IPython.display import Image, display\n",
    "\n",
    "\n",
    "# Schema for strctured output to use as routing logic\n",
    "class Route(BaseModel):\n",
    "\tstep: Literal[\"finance\", \"portfolio \", \"market\", \"goal\", \"news\", \"tax\"] = Field(\n",
    "\t\tNone, description=\"The next step in the routing process\"\n",
    "\t)\n",
    "\n",
    "# Agument the LLM with schema for structured output\n",
    "router = llm.with_structured_output(Route)"
   ]
  },
  {
   "cell_type": "code",
   "execution_count": 8,
   "id": "f26d4396-a1fb-4785-8da6-4022df997af0",
   "metadata": {},
   "outputs": [],
   "source": [
    "FIN_SYSTEM_PROMPT = \"\"\"\n",
    "You are a Finance Q&A Agent designed to provide accurate, clear, and accessible answers on general financial education topics like budgeting, saving, investing, and more. Use a professional, approachable tone, avoid jargon unless explained, and do not offer personalized advice. Structure responses with a brief answer, followed by an explanation and context. If the question is unclear, ask for clarification. Suggest consulting professionals for specific advice and provide reliable resources for further learning.\n",
    "\"\"\""
   ]
  },
  {
   "cell_type": "code",
   "execution_count": 9,
   "id": "59138378-03ec-46de-b404-cf914cf52c54",
   "metadata": {},
   "outputs": [],
   "source": [
    "from langchain_core.messages import SystemMessage, HumanMessage\n",
    "#from langchain_core.messages import SystemMessage, HumanMessage\n",
    "# Nodes\n",
    "def call_finance_qa_agent(state: AgentState):\n",
    "\t#\"\"\" Finance Q&A Agent \"\"\"\n",
    "    \n",
    "\tprint(\" Finance Q&A Agent: Handles general financial education queries \")\n",
    "\t#result = llm.invoke(state[\"user_input\"])\n",
    "\tstate[\"system_prompt\"] = FIN_SYSTEM_PROMPT\n",
    "\tret_state = classify_query(state)\n",
    "    \n",
    "\t#print(ret_state['query_type'])\n",
    "\tif ret_state['query_type'] == 'real_time':\n",
    "\t\tret_state = retrieve_context(ret_state)\n",
    "        \n",
    "\treturn ret_state\n",
    "    \n",
    "\n",
    "def call_portfolio_analysis_agent(state: AgentState):\n",
    "\t\"\"\" Portfolio Analysis Agent \"\"\"\n",
    "\n",
    "\tprint(\" Reviews and analyzes user portfolios \")\n",
    "\tresult = llm.invoke(state[\"user_input\"])\n",
    "\treturn {\"output\": result.content}\n",
    "\n",
    "def call_market_analysis_agent(state: AgentState):\n",
    "\t\"\"\" Market Analysis Agent\"\"\"\n",
    "\n",
    "\tprint(\" Provides real-time market insights \")\n",
    "\tresult = llm.invoke(state[\"user_input\"])\n",
    "\treturn {\"output\": result.content}\n",
    "\n",
    "def call_goal_planning_agent(state: AgentState):\n",
    "\t\"\"\" Goal Planning Agent\"\"\"\n",
    "\n",
    "\tprint(\" Assists with financial goal setting and planning \")\n",
    "\tresult = llm.invoke(state[\"user_input\"])\n",
    "\treturn {\"output\": result.content}\n",
    "\n",
    "def call_news_synthesizer_agent(state: AgentState):\n",
    "\t\"\"\" News Synthesizer Agent\"\"\"\n",
    "\n",
    "\tprint(\" Summarizes and contextualizes financial news \")\n",
    "\tresult = llm.invoke(state[\"user_input\"])\n",
    "\treturn {\"output\": result.content}\n",
    "\n",
    "def call_tax_education_agent(state: AgentState):\n",
    "\t\"\"\" Tax Education Agent\"\"\"\n",
    "\n",
    "\tprint(\" Explains tax concepts and account types \")\n",
    "\tresult = llm.invoke(state[\"user_input\"])\n",
    "\treturn {\"output\": result.content}\n",
    "\n",
    "\n",
    "def finapp_router(state: AgentState):\n",
    "  \"\"\"Route the user_input to the appropriate node \"\"\"\n",
    "\n",
    "  # Run the agumented LLM with strctured output to serve as routing logic\n",
    "  decision = router.invoke(\n",
    "\t\t[\n",
    "\t\t\tSystemMessage(\n",
    "\t\t\t\tcontent=\"Route the user_input to finance, portfolio, market, goal, news or tax based on user request\"\n",
    "\t\t\t),\n",
    "\t\t\tHumanMessage(content=state[\"user_input\"]),\n",
    "\n",
    "\t\t]\n",
    "\t)\n",
    "  print(f\"decision: {decision.step}\")  \n",
    "  return {\"decision\": decision.step}\n",
    "\n",
    "\n",
    "# Conditional edge function to route the appropriate node\n",
    "def route_decision(state: AgentState):\n",
    "\tdecision_str = state[\"decision\"].rstrip()\n",
    "\tdecision_str = decision_str.lower()\n",
    "\tprint(decision_str)\n",
    "\tif decision_str is None:\n",
    "\t\treturn \"call_finance_qa_agent\"\n",
    "\t\n",
    "\n",
    "\tif decision_str == 'finance':\n",
    "\t\treturn \"call_finance_qa_agent\"\n",
    "\telif decision_str == 'portfolio':\n",
    "\t\treturn \"call_portfolio_analysis_agent\"\n",
    "\telif decision_str == \"market\":\n",
    "\t\treturn \"call_market_analysis_agent\"\n",
    "\telif decision_str == \"goal\":\n",
    "\t\treturn \"call_goal_planning_agent\"\n",
    "\telif decision_str == \"news\":\n",
    "\t\treturn \"call_news_synthesizer_agent\"\n",
    "\telif decision_str == \"tax\":\n",
    "\t\treturn \"call_tax_education_agent\"\n"
   ]
  },
  {
   "cell_type": "code",
   "execution_count": 15,
   "id": "cae8217e-7d76-4aee-bdfd-2c6915ac9889",
   "metadata": {},
   "outputs": [],
   "source": [
    "# Mock vector database search (replace with real vector store like FAISS)\n",
    "def mock_vector_search(query: str) -> str:\n",
    "    return f\"Mock retrieved data for '{query}': todo\"\n",
    "\n",
    "# Mock external API call (replace with real API like Alpha Vantage)\n",
    "def mock_api_call(query: str) -> str:\n",
    "    print(\"inside mock_api_call\")\n",
    "    return f\"Mock API data for '{query}': Real-time financial data not available in this demo.\"\n",
    "\t\n",
    "\n",
    "# Retrieve context for real-time queries\n",
    "def retrieve_context(state: AgentState) -> AgentState:\n",
    "    query = None\n",
    "    if state[\"query_type\"] == \"real_time\":\n",
    "        query = state[\"user_input\"]\n",
    "        # Simulate vector database or API call\n",
    "\n",
    "        context = mock_vector_search(query) if \"rate\" in query.lower() else mock_api_call(query)\n",
    "        state[\"hist_messages\"].append({\"role\": \"system\", \"content\": f\"[Retrieved Context]: {context}\"})\n",
    "    if query:\n",
    "        print(query)\n",
    "    return state\n",
    "\n",
    "\n",
    "def classify_query(state: AgentState) -> AgentState:\n",
    "    query = state[\"user_input\"].lower()\n",
    "    time_sensitive_keywords = [\"current\", \"today\", \"now\", \"latest\", \"recent\", \"2025\"]\n",
    "    \n",
    "    if any(keyword in query for keyword in time_sensitive_keywords):\n",
    "        state[\"query_type\"] = \"real_time\"\n",
    "    else:\n",
    "        state[\"query_type\"] = \"straightforward\"\n",
    "    return state\n",
    "\n",
    "# Mock LLM call (replace with real LLM like ChatOpenAI)\n",
    "def process_query(state: AgentState) -> AgentState:\n",
    "  \n",
    "\t# Ensure hist_messages is initialized as a list\n",
    "\tif \"hist_messages\" not in state or not isinstance(state[\"hist_messages\"], list):\n",
    "\t\tstate[\"hist_messages\"] = []\n",
    "    \n",
    "\t# Append user input to message history\n",
    "\tif \"user_input\" in state and state[\"user_input\"]:\n",
    "\t\tstate[\"hist_messages\"].append({\"role\": \"user\", \"content\": state[\"user_input\"]})\n",
    "    \n",
    "\ttry:\n",
    "\t\t# Invoke LLM\n",
    "\t\tresponse = llm.invoke(state[\"user_input\"])\n",
    "        \n",
    "\t\t# Extract content (adjust based on LLM library)\n",
    "\t\tcontent = response.content if hasattr(response, \"content\") else response\n",
    "        \n",
    "\t\t# Append LLM response to message history\n",
    "\t\tstate[\"hist_messages\"].append({\"role\": \"assistant\", \"content\": content})\n",
    "        \n",
    "\texcept Exception as e:\n",
    "\t\t# Handle LLM invocation or response parsing errors\n",
    "\t\tprint(f\"Error invoking LLM: {e}\")\n",
    "\t\tstate[\"hist_messages\"].append({\"role\": \"system\", \"content\": f\"Error: {str(e)}\"})\n",
    "    \n",
    "\t# Return the entire state\n",
    "\treturn state\n"
   ]
  },
  {
   "cell_type": "code",
   "execution_count": 16,
   "id": "fd41c3f9-de17-482e-9fb0-6f2a1b2ed37f",
   "metadata": {},
   "outputs": [
    {
     "data": {
      "image/png": "[encoded data removed]",
      "text/plain": [
       "<IPython.core.display.Image object>"
      ]
     },
     "metadata": {},
     "output_type": "display_data"
    }
   ],
   "source": [
    "# Build workflow\n",
    "router_builder = StateGraph(AgentState)\n",
    "\n",
    "# Add nodes\n",
    "router_builder.add_node(\"call_finance_qa_agent\", call_finance_qa_agent)\n",
    "\n",
    "router_builder.add_node(\"classify_query\", classify_query)\n",
    "router_builder.add_node(\"retrieve_context\", retrieve_context)\n",
    "router_builder.add_node(\"process_query\", process_query)\n",
    "\n",
    "router_builder.add_node(\"call_goal_planning_agent\", call_goal_planning_agent)\n",
    "router_builder.add_node(\"call_market_analysis_agent\", call_market_analysis_agent)\n",
    "router_builder.add_node(\"call_news_synthesizer_agent\", call_news_synthesizer_agent)\n",
    "router_builder.add_node(\"call_portfolio_analysis_agent\", call_portfolio_analysis_agent)\n",
    "router_builder.add_node(\"call_tax_education_agent\", call_tax_education_agent)\n",
    "\n",
    "router_builder.add_node(\"finapp_router\", finapp_router)\n",
    "\n",
    "# Add edges to connect nodes\n",
    "router_builder.add_edge(START, \"finapp_router\")\n",
    "router_builder.add_conditional_edges(\n",
    "    \"finapp_router\",\n",
    "    route_decision,\n",
    "    {  # Name returned by route_decision : Name of next node to visit\n",
    "        \"call_finance_qa_agent\": \"call_finance_qa_agent\",\n",
    "        \"call_goal_planning_agent\": \"call_goal_planning_agent\",\n",
    "        \"call_market_analysis_agent\": \"call_market_analysis_agent\",\n",
    "        \"call_news_synthesizer_agent\": \"call_news_synthesizer_agent\",\n",
    "        \"call_portfolio_analysis_agent\": \"call_portfolio_analysis_agent\",\n",
    "        \"call_tax_education_agent\": \"call_tax_education_agent\",\n",
    "    },\n",
    ")\n",
    "\n",
    "#router_builder.add_edge(\"call_finance_qa_agent\", END)\n",
    "router_builder.add_edge(\"call_finance_qa_agent\", \"classify_query\")\n",
    "router_builder.add_edge(\"classify_query\", \"retrieve_context\")\n",
    "router_builder.add_edge(\"retrieve_context\", \"process_query\")\n",
    "router_builder.add_edge(\"process_query\", END)\n",
    "\n",
    "router_builder.add_edge(\"call_goal_planning_agent\", END)\n",
    "router_builder.add_edge(\"call_market_analysis_agent\", END)\n",
    "router_builder.add_edge(\"call_news_synthesizer_agent\", END)\n",
    "router_builder.add_edge(\"call_portfolio_analysis_agent\", END)\n",
    "router_builder.add_edge(\"call_tax_education_agent\", END)\n",
    "\n",
    "# compile workflow\n",
    "router_workflow = router_builder.compile()\n",
    "\n",
    "# Show the workflow\n",
    "display(Image(router_workflow.get_graph().draw_mermaid_png()))"
   ]
  },
  {
   "cell_type": "code",
   "execution_count": 12,
   "id": "4908a57c-b060-442b-bd14-91c920834c15",
   "metadata": {},
   "outputs": [],
   "source": [
    "#state = router_workflow.invoke({\"user_input\": \"what is portfolio?\"})\n",
    "#print(state[\"output\"])"
   ]
  },
  {
   "cell_type": "code",
   "execution_count": 20,
   "id": "8b640ef0-e9a8-469a-bfe3-b6d39c9abfea",
   "metadata": {},
   "outputs": [
    {
     "name": "stdout",
     "output_type": "stream",
     "text": [
      "decision: finance\n",
      "finance\n",
      " Finance Q&A Agent: Handles general financial education queries \n",
      "straightforward\n",
      "Finance is a broad field that deals with the management, creation, and study of money, investments, and other financial instruments. It encompasses a variety of activities and disciplines, including:\n",
      "\n",
      "1. **Personal Finance**: This involves managing individual or household financial activities, such as budgeting, saving, investing, financing major purchases, and planning for retirement.\n",
      "\n",
      "2. **Corporate Finance**: This focuses on how corporations manage their financial resources, including capital budgeting (deciding on investment projects), capital structure (mix of debt and equity financing), and working capital management (managing short-term assets and liabilities).\n",
      "\n",
      "3. **Public Finance**: This relates to government finance and involves managing a country's revenue, expenditures, and debt load. It includes budgeting, taxation, and various forms of financial policy intended to influence the economy.\n",
      "\n",
      "4. **Investment**: This area involves the allocation of resources, typically in the form of money, with the expectation of generating income or profit. It includes the study of financial markets, securities like stocks and bonds, and asset management.\n",
      "\n",
      "5. **Financial Markets and Institutions**: This examines the structures and processes through which financial assets are created and traded. It includes the role of banks, stock exchanges, and other financial institutions.\n",
      "\n",
      "6. **Risk Management**: This involves identifying, assessing, and prioritizing risks and applying resources to minimize, control, and monitor the impact of those risks.\n",
      "\n",
      "Finance is essential for the functioning of economies and the ability of individuals and organizations to achieve their financial goals. It involves complex decision-making and analysis, often requiring a deep understanding of economic principles, data analysis, and market dynamics.\n"
     ]
    }
   ],
   "source": [
    "def get_assistant_content(state: dict) -> list:\n",
    "    # Ensure hist_messages exists and is a list\n",
    "    if \"hist_messages\" not in state or not isinstance(state[\"hist_messages\"], list):\n",
    "        return []\n",
    "    \n",
    "    # Extract content for messages where role is \"assistant\"\n",
    "    assistant_contents = [msg[\"content\"] for msg in state[\"hist_messages\"] if msg.get(\"role\") == \"assistant\"]\n",
    "    return assistant_contents\n",
    "\n",
    "state = router_workflow.invoke({\"user_input\": \"what is finance?\"})\n",
    "#response = state['hist_messages']\n",
    "\n",
    "assistant_messages = get_assistant_content(state)\n",
    "\n",
    "print(assistant_messages[-1])\n",
    "#print(response['role'] == 'assistant')"
   ]
  },
  {
   "cell_type": "code",
   "execution_count": null,
   "id": "ff5c81be-4110-4ce4-a110-477ed3345cb1",
   "metadata": {},
   "outputs": [],
   "source": [
    "#state = router_workflow.invoke({\"user_input\": \"what is goal planning?\"})\n",
    "#print(state[\"output\"])"
   ]
  },
  {
   "cell_type": "code",
   "execution_count": null,
   "id": "03b934f3-c657-4e02-917e-aa8aa2668a87",
   "metadata": {},
   "outputs": [],
   "source": [
    "#state = router_workflow.invoke({\"input\": \"what is market analysis?\"})\n",
    "#print(state[\"output\"])"
   ]
  },
  {
   "cell_type": "code",
   "execution_count": null,
   "id": "aeb6720a-a65a-46e1-9049-248505bfc7a9",
   "metadata": {},
   "outputs": [],
   "source": [
    "#state = router_workflow.invoke({\"user_input\": \"what is the news?\"})\n",
    "#print(state[\"output\"])"
   ]
  },
  {
   "cell_type": "code",
   "execution_count": null,
   "id": "feeda8ea-4105-4bde-aa4f-07e317853545",
   "metadata": {},
   "outputs": [],
   "source": [
    "#state = router_workflow.invoke({\"user_input\": \"Can you provide tax education?\"})\n",
    "#print(state[\"output\"])"
   ]
  },
  {
   "cell_type": "code",
   "execution_count": null,
   "id": "49da8396-f1fe-4fe3-8cad-d7ba9fdf98b1",
   "metadata": {},
   "outputs": [],
   "source": []
  }
 ],
 "metadata": {
  "kernelspec": {
   "display_name": "Python 3 (ipykernel)",
   "language": "python",
   "name": "python3"
  },
  "language_info": {
   "codemirror_mode": {
    "name": "ipython",
    "version": 3
   },
   "file_extension": ".py",
   "mimetype": "text/x-python",
   "name": "python",
   "nbconvert_exporter": "python",
   "pygments_lexer": "ipython3",
   "version": "3.10.12"
  }
 },
 "nbformat": 4,
 "nbformat_minor": 5
}
